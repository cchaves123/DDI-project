{
 "cells": [
  {
   "cell_type": "code",
   "execution_count": 4,
   "id": "1fcdb8d2",
   "metadata": {},
   "outputs": [],
   "source": [
    "import pandas as pd\n",
    "import numpy as np\n",
    "import networkx as nx\n",
    "import torch"
   ]
  },
  {
   "cell_type": "code",
   "execution_count": 6,
   "id": "605f458c",
   "metadata": {},
   "outputs": [],
   "source": [
    "import pickle\n",
    "with open('C:\\\\Users\\\\Owner\\\\OneDrive - NC Justice Center\\\\Desktop\\\\drug_data.pkl', 'rb') as f:\n",
    "    dictionary = pickle.load( f)"
   ]
  },
  {
   "cell_type": "code",
   "execution_count": 10,
   "id": "1e3b0970",
   "metadata": {},
   "outputs": [
    {
     "name": "stdout",
     "output_type": "stream",
     "text": [
      "dict_keys(['drugbank_id', 'name', 'description', 'indication', 'pharmacodynamics', 'toxicity', 'metabolism', 'absorption', 'half_life', 'market_start', 'affected_organism', 'market_end', 'mechanism_of_action', 'route_of_elimination', 'volume_of_distribution', 'classification', 'carriers', 'targets', 'transporters', 'enzymes', 'atc_code', 'identifiers', 'categories', 'atc_hierarchy', 'food_interactions', 'ddi', 'smile', 'names', 'pathways'])\n"
     ]
    }
   ],
   "source": [
    "print(dictionary['DB00001'].keys())"
   ]
  }
 ],
 "metadata": {
  "kernelspec": {
   "display_name": "Python 3 (ipykernel)",
   "language": "python",
   "name": "python3"
  },
  "language_info": {
   "codemirror_mode": {
    "name": "ipython",
    "version": 3
   },
   "file_extension": ".py",
   "mimetype": "text/x-python",
   "name": "python",
   "nbconvert_exporter": "python",
   "pygments_lexer": "ipython3",
   "version": "3.9.6"
  }
 },
 "nbformat": 4,
 "nbformat_minor": 5
}
